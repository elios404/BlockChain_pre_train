{
 "cells": [
  {
   "cell_type": "markdown",
   "id": "253e2c07",
   "metadata": {},
   "source": [
    "# TTS (GPT 답변을 음성으로)"
   ]
  },
  {
   "cell_type": "markdown",
   "id": "0851f1b2",
   "metadata": {},
   "source": [
    "## 0. 환경 변수 불러오기"
   ]
  },
  {
   "cell_type": "code",
   "execution_count": 1,
   "id": "e5cb5bf5",
   "metadata": {},
   "outputs": [
    {
     "data": {
      "text/plain": [
       "True"
      ]
     },
     "execution_count": 1,
     "metadata": {},
     "output_type": "execute_result"
    }
   ],
   "source": [
    "# 환경변수 불러오기\n",
    "from dotenv import load_dotenv\n",
    "\n",
    "load_dotenv()"
   ]
  },
  {
   "cell_type": "markdown",
   "id": "4c78e3d4",
   "metadata": {},
   "source": [
    "## 1. whisper 로 tts 실습하기"
   ]
  },
  {
   "cell_type": "code",
   "execution_count": null,
   "id": "ea72bce1",
   "metadata": {},
   "outputs": [],
   "source": [
    "from openai import OpenAI\n",
    "\n",
    "# 저장할 파일 경로\n",
    "speech_file_path = \"./resources/speech.mp3\"\n",
    "\n",
    "# OpenAI 클라이언트 생성\n",
    "client = OpenAI()\n",
    "\n",
    "# 음성 합성 요청\n",
    "with client.audio.speech.with_streaming_response.create(\n",
    "    model=\"gpt-4o-mini-tts\",\n",
    "    voice=\"verse\",\n",
    "    input=\"집 가고 싶어요!\",\n",
    "    instructions=\"크고 우렁차고 모두가 들을 수 있는 목소리로 길게 늘여서 말해줘\" #어떤 음성으로 말할지 결정하는 프롬프트\n",
    ") as response:\n",
    "    # 음성 합성 결과를 파일로 저장\n",
    "    response.stream_to_file(speech_file_path)"
   ]
  },
  {
   "cell_type": "code",
   "execution_count": 12,
   "id": "f8ed19ca",
   "metadata": {},
   "outputs": [],
   "source": [
    "from pydub import AudioSegment\n",
    "from pydub.playback import play\n",
    "\n",
    "# mp3 파일일 경우\n",
    "sound = AudioSegment.from_mp3(\"./resources/speech.mp3\")\n",
    "# wav 파일일 경우 \n",
    "# sound = AudioSegment.from_wav(\"./resources/speech.wav\")\n",
    "play(sound)"
   ]
  },
  {
   "cell_type": "markdown",
   "id": "13bdf56d",
   "metadata": {},
   "source": [
    "## Elevenlabs API 를 활용한 TTS 실습"
   ]
  },
  {
   "cell_type": "markdown",
   "id": "c068ed3b",
   "metadata": {},
   "source": [
    "### 1.Elevenlabs 클라이언트 생성"
   ]
  },
  {
   "cell_type": "code",
   "execution_count": 14,
   "id": "b5fb2ca3",
   "metadata": {},
   "outputs": [],
   "source": [
    "import os \n",
    "from elevenlabs.client import ElevenLabs\n",
    "\n",
    "# ElevenLabs 클라이언트 생성\n",
    "client = ElevenLabs(api_key=os.getenv(\"ELEVENLABS_API_KEY\"))"
   ]
  },
  {
   "cell_type": "code",
   "execution_count": 15,
   "id": "c488c364",
   "metadata": {},
   "outputs": [
    {
     "name": "stdout",
     "output_type": "stream",
     "text": [
      "voice_id='uyVNoMrnUku1dZyVEXwD' name='Anna Kim' samples=None category='professional' fine_tuning=FineTuningResponse(is_allowed_to_fine_tune=True, state={'eleven_multilingual_v2': 'fine_tuned', 'eleven_turbo_v2_5': 'fine_tuned', 'eleven_multilingual_sts_v2': 'fine_tuned', 'eleven_flash_v2_5': 'fine_tuned', 'eleven_v2_5_flash': 'fine_tuned'}, verification_failures=[], verification_attempts_count=0, manual_verification_requested=False, language='ko', progress={}, message={'eleven_multilingual_v2': '', 'eleven_turbo_v2_5': '', 'eleven_multilingual_sts_v2': '', 'eleven_flash_v2_5': '', 'eleven_v2_5_flash': ''}, dataset_duration_seconds=None, verification_attempts=None, slice_ids=None, manual_verification=None, max_verification_attempts=0, next_max_verification_attempts_reset_unix_ms=0, finetuning_state=None) labels={'accent': 'seoul', 'descriptive': 'formal', 'age': 'young', 'gender': 'female', 'language': 'ko', 'use_case': 'narrative_story'} description='Young Korean female voice. Great for Narrations.' preview_url='https://storage.googleapis.com/eleven-public-prod/database/user/OKaBDsX4AwWWjMaZHBmhCWFvt9N2/voices/uyVNoMrnUku1dZyVEXwD/W55oP1IsLNaNaglJpUZd.mp3' available_for_tiers=[] settings=None sharing=VoiceSharingResponse(status='copied', history_item_sample_id=None, date_unix=1755722651, whitelisted_emails=[], public_owner_id='1a1e6c6599fb77c5a995deb7d336b4da47da6a1b2232c551d9290cb0d9770127', original_voice_id='uyVNoMrnUku1dZyVEXwD', financial_rewards_enabled=False, free_users_allowed=True, live_moderation_enabled=False, rate=1.0, fiat_rate=None, notice_period=730, disable_at_unix=None, voice_mixing_allowed=False, featured=False, category='high_quality', reader_app_enabled=True, image_url='', ban_reason=None, liked_by_count=0, cloned_by_count=0, name='Anna Kim', description='Young Korean female voice. Great for Narrations.', labels={'language': 'ko', 'descriptive': 'formal', 'age': 'young', 'gender': 'female', 'accent': 'seoul', 'use_case': 'narrative_story', 'locale': 'ko-KR'}, review_status='not_requested', review_message=None, enabled_in_library=False, instagram_username=None, twitter_username=None, youtube_username=None, tiktok_username=None, moderation_check=None, reader_restricted_on=None) high_quality_base_model_ids=['eleven_turbo_v2_5', 'eleven_multilingual_sts_v2', 'eleven_multilingual_v2', 'eleven_v2_5_flash', 'eleven_flash_v2_5'] verified_languages=[VerifiedVoiceLanguageResponseModel(language='hi', model_id='eleven_multilingual_v2', accent='standard', locale='hi-IN', preview_url='https://storage.googleapis.com/eleven-public-prod/database/user/OKaBDsX4AwWWjMaZHBmhCWFvt9N2/voices/uyVNoMrnUku1dZyVEXwD/8793447d-e6ed-4a96-8efb-5f444d0f9530.mp3'), VerifiedVoiceLanguageResponseModel(language='pl', model_id='eleven_multilingual_v2', accent='podhale', locale=None, preview_url='https://storage.googleapis.com/eleven-public-prod/database/user/OKaBDsX4AwWWjMaZHBmhCWFvt9N2/voices/uyVNoMrnUku1dZyVEXwD/539fecdc-0f93-4bef-a66b-cd11d8c51144.mp3'), VerifiedVoiceLanguageResponseModel(language='ru', model_id='eleven_multilingual_v2', accent='standard', locale='ru-RU', preview_url='https://storage.googleapis.com/eleven-public-prod/database/user/OKaBDsX4AwWWjMaZHBmhCWFvt9N2/voices/uyVNoMrnUku1dZyVEXwD/ff69e02f-b1b8-4cef-96d3-969760dca161.mp3'), VerifiedVoiceLanguageResponseModel(language='bg', model_id='eleven_multilingual_v2', accent='standard', locale='bg-BG', preview_url='https://storage.googleapis.com/eleven-public-prod/database/user/OKaBDsX4AwWWjMaZHBmhCWFvt9N2/voices/uyVNoMrnUku1dZyVEXwD/09d49207-3f29-464e-85e4-e3c2889266f2.mp3'), VerifiedVoiceLanguageResponseModel(language='fr', model_id='eleven_multilingual_v2', accent='standard', locale='fr-FR', preview_url='https://storage.googleapis.com/eleven-public-prod/database/user/OKaBDsX4AwWWjMaZHBmhCWFvt9N2/voices/uyVNoMrnUku1dZyVEXwD/f1ea7d26-056c-44e6-a1a3-8f9ce9a991a5.mp3'), VerifiedVoiceLanguageResponseModel(language='ar', model_id='eleven_multilingual_v2', accent='modern standard', locale='ar-SA', preview_url='https://storage.googleapis.com/eleven-public-prod/database/user/OKaBDsX4AwWWjMaZHBmhCWFvt9N2/voices/uyVNoMrnUku1dZyVEXwD/ffe53c7d-b95c-418a-8ffd-43b215cc9a10.mp3')] safety_control=None voice_verification=VoiceVerificationResponse(requires_verification=False, is_verified=False, verification_failures=[], verification_attempts_count=0, language=None, verification_attempts=None) permission_on_resource='admin' is_owner=False is_legacy=False is_mixed=False created_at_unix=1755722651\n",
      "voice_id='ZJCNdZEjYwkOElxugmW2' name='HYUK ' samples=None category='professional' fine_tuning=FineTuningResponse(is_allowed_to_fine_tune=True, state={'eleven_multilingual_v2': 'fine_tuned', 'eleven_turbo_v2_5': 'fine_tuned', 'eleven_multilingual_sts_v2': 'fine_tuned', 'eleven_flash_v2_5': 'fine_tuned', 'eleven_v2_5_flash': 'fine_tuned'}, verification_failures=[], verification_attempts_count=0, manual_verification_requested=False, language='ko', progress={}, message={'eleven_multilingual_v2': '', 'eleven_turbo_v2_5': '', 'eleven_multilingual_sts_v2': '', 'eleven_flash_v2_5': '', 'eleven_v2_5_flash': ''}, dataset_duration_seconds=None, verification_attempts=None, slice_ids=None, manual_verification=None, max_verification_attempts=0, next_max_verification_attempts_reset_unix_ms=0, finetuning_state=None) labels={'accent': 'standard', 'descriptive': 'relaxed', 'age': 'middle_aged', 'gender': 'male', 'language': 'ko', 'use_case': 'narrative_story'} description='Middle aged Soft and emotional Korean male voice. Great for Narration & Storytelling.' preview_url='https://storage.googleapis.com/eleven-public-prod/hSWXaUomcSNh92DBdVimNedwBFB2/voices/ZJCNdZEjYwkOElxugmW2/a5a5dec0-45ab-4b01-95a8-75fe95cbba0c.mp3' available_for_tiers=[] settings=None sharing=VoiceSharingResponse(status='copied', history_item_sample_id=None, date_unix=1755722649, whitelisted_emails=[], public_owner_id='219e2c24fb2ce1f2a9727325609ced8e5548e2320fdd30d5f0e774c19e0604f8', original_voice_id='ZJCNdZEjYwkOElxugmW2', financial_rewards_enabled=False, free_users_allowed=True, live_moderation_enabled=False, rate=1.0, fiat_rate=None, notice_period=730, disable_at_unix=None, voice_mixing_allowed=False, featured=False, category='high_quality', reader_app_enabled=None, image_url='', ban_reason=None, liked_by_count=0, cloned_by_count=0, name='HYUK ', description='Middle aged Soft and emotional Korean male voice. Great for Narration & Storytelling.', labels={'language': 'ko', 'descriptive': 'relaxed', 'age': 'middle_aged', 'gender': 'male', 'accent': 'standard', 'use_case': 'narrative_story', 'locale': 'ko-KR'}, review_status='not_requested', review_message=None, enabled_in_library=False, instagram_username=None, twitter_username=None, youtube_username=None, tiktok_username=None, moderation_check=None, reader_restricted_on=None) high_quality_base_model_ids=['eleven_turbo_v2_5', 'eleven_multilingual_sts_v2', 'eleven_multilingual_v2', 'eleven_v2_5_flash', 'eleven_flash_v2_5'] verified_languages=[VerifiedVoiceLanguageResponseModel(language='hi', model_id='eleven_multilingual_v2', accent='standard', locale='hi-IN', preview_url='https://storage.googleapis.com/eleven-public-prod/database/user/hSWXaUomcSNh92DBdVimNedwBFB2/voices/ZJCNdZEjYwkOElxugmW2/28817879-3f57-4652-85cb-6bd61e655c08.mp3'), VerifiedVoiceLanguageResponseModel(language='es', model_id='eleven_multilingual_v2', accent='peninsular', locale='es-ES', preview_url='https://storage.googleapis.com/eleven-public-prod/database/user/hSWXaUomcSNh92DBdVimNedwBFB2/voices/ZJCNdZEjYwkOElxugmW2/8f4c0411-fd3e-4c42-9c1d-350a03eb6844.mp3'), VerifiedVoiceLanguageResponseModel(language='it', model_id='eleven_multilingual_v2', accent='standard', locale='it-IT', preview_url='https://storage.googleapis.com/eleven-public-prod/database/user/hSWXaUomcSNh92DBdVimNedwBFB2/voices/ZJCNdZEjYwkOElxugmW2/4f1a02a3-eccc-4689-a50b-bf2b868011b9.mp3'), VerifiedVoiceLanguageResponseModel(language='bg', model_id='eleven_multilingual_v2', accent='sofia', locale='bg-BG', preview_url='https://storage.googleapis.com/eleven-public-prod/database/user/hSWXaUomcSNh92DBdVimNedwBFB2/voices/ZJCNdZEjYwkOElxugmW2/4ba87dff-207e-455b-8951-6bcbc9c7352d.mp3'), VerifiedVoiceLanguageResponseModel(language='fr', model_id='eleven_multilingual_v2', accent='standard', locale='fr-FR', preview_url='https://storage.googleapis.com/eleven-public-prod/database/user/hSWXaUomcSNh92DBdVimNedwBFB2/voices/ZJCNdZEjYwkOElxugmW2/979fba72-dbb1-4b15-8b06-68b9a78467d1.mp3'), VerifiedVoiceLanguageResponseModel(language='ar', model_id='eleven_multilingual_v2', accent='modern standard', locale='ar-SA', preview_url='https://storage.googleapis.com/eleven-public-prod/database/user/hSWXaUomcSNh92DBdVimNedwBFB2/voices/ZJCNdZEjYwkOElxugmW2/682f503a-2aff-42af-a64a-10616486d374.mp3')] safety_control=None voice_verification=VoiceVerificationResponse(requires_verification=False, is_verified=False, verification_failures=[], verification_attempts_count=0, language=None, verification_attempts=None) permission_on_resource='admin' is_owner=False is_legacy=False is_mixed=False created_at_unix=1755722649\n",
      "voice_id='S8IIf77q99OgYuPS5P9n' name='고윤정' samples=[VoiceSample(sample_id='lQtqkZpFcLnPRVaJowMO', file_name='고윤정.mp3', mime_type='audio/mpeg', size_bytes=422693, hash='beb75cd9e896e59985c758c42cd85c3f', duration_secs=17.568412698412697, remove_background_noise=None, has_isolated_audio=None, has_isolated_audio_preview=None, speaker_separation=None, trim_start=None, trim_end=None)] category='cloned' fine_tuning=FineTuningResponse(is_allowed_to_fine_tune=False, state={}, verification_failures=[], verification_attempts_count=0, manual_verification_requested=False, language=None, progress={}, message={}, dataset_duration_seconds=None, verification_attempts=None, slice_ids=None, manual_verification=None, max_verification_attempts=None, next_max_verification_attempts_reset_unix_ms=None, finetuning_state=None) labels={'language': 'ko'} description='ESQUIRE Korea 고윤정 인터뷰 중 일부' preview_url='https://storage.googleapis.com/eleven-public-prod/database/user/oxRC0IqrnAU2oQkVftSNUHsufAT2/voices/S8IIf77q99OgYuPS5P9n/f75c5276-582a-45ba-9a58-3acb9ca1dcf0.mp3' available_for_tiers=[] settings=None sharing=None high_quality_base_model_ids=[] verified_languages=[] safety_control=None voice_verification=VoiceVerificationResponse(requires_verification=False, is_verified=False, verification_failures=[], verification_attempts_count=0, language=None, verification_attempts=None) permission_on_resource='admin' is_owner=True is_legacy=False is_mixed=False created_at_unix=1748269329\n",
      "voice_id='YCPBwhY4tRbx9FF87DRi' name='koohyesun' samples=[VoiceSample(sample_id='ezQoDbKvjFGObBTfcRiG', file_name='audio11.mp3', mime_type='audio/mpeg', size_bytes=220098, hash='8bde49e10241c1d3540c44bd1fca8768', duration_secs=13.7, remove_background_noise=None, has_isolated_audio=None, has_isolated_audio_preview=None, speaker_separation=None, trim_start=None, trim_end=None)] category='cloned' fine_tuning=FineTuningResponse(is_allowed_to_fine_tune=False, state={}, verification_failures=[], verification_attempts_count=0, manual_verification_requested=False, language=None, progress={}, message={}, dataset_duration_seconds=None, verification_attempts=None, slice_ids=None, manual_verification=None, max_verification_attempts=None, next_max_verification_attempts_reset_unix_ms=None, finetuning_state=None) labels={'language': 'ko'} description='오은영의 상담소에서 구혜선의 음성' preview_url='https://storage.googleapis.com/eleven-public-prod/database/user/oxRC0IqrnAU2oQkVftSNUHsufAT2/voices/YCPBwhY4tRbx9FF87DRi/b474239f-3158-4ee7-9a3b-355d851225ec.mp3' available_for_tiers=[] settings=None sharing=None high_quality_base_model_ids=[] verified_languages=[] safety_control=None voice_verification=VoiceVerificationResponse(requires_verification=False, is_verified=False, verification_failures=[], verification_attempts_count=0, language=None, verification_attempts=None) permission_on_resource='admin' is_owner=True is_legacy=False is_mixed=False created_at_unix=1747383895\n",
      "voice_id='21m00Tcm4TlvDq8ikWAM' name='Rachel' samples=None category='premade' fine_tuning=FineTuningResponse(is_allowed_to_fine_tune=False, state={}, verification_failures=[], verification_attempts_count=0, manual_verification_requested=False, language=None, progress={}, message={}, dataset_duration_seconds=None, verification_attempts=None, slice_ids=None, manual_verification=None, max_verification_attempts=None, next_max_verification_attempts_reset_unix_ms=None, finetuning_state=None) labels={'accent': 'american', 'descriptive': 'casual', 'age': 'young', 'gender': 'female', 'language': 'en', 'use_case': 'conversational'} description='Matter-of-fact, personable woman. Great for conversational use cases.' preview_url='https://storage.googleapis.com/eleven-public-prod/premade/voices/21m00Tcm4TlvDq8ikWAM/b4928a68-c03b-411f-8533-3d5c299fd451.mp3' available_for_tiers=[] settings=None sharing=None high_quality_base_model_ids=[] verified_languages=[] safety_control=None voice_verification=VoiceVerificationResponse(requires_verification=False, is_verified=False, verification_failures=[], verification_attempts_count=0, language=None, verification_attempts=None) permission_on_resource=None is_owner=False is_legacy=False is_mixed=False created_at_unix=None\n",
      "voice_id='29vD33N1CtxCmqQRPOHJ' name='Drew' samples=None category='premade' fine_tuning=FineTuningResponse(is_allowed_to_fine_tune=True, state={'eleven_multilingual_v2': 'fine_tuned', 'eleven_turbo_v2_5': 'fine_tuned', 'eleven_flash_v2_5': 'fine_tuned', 'eleven_v2_flash': 'fine_tuned', 'eleven_v2_5_flash': 'fine_tuned', 'eleven_turbo_v2': 'fine_tuned', 'eleven_flash_v2': 'fine_tuned'}, verification_failures=[], verification_attempts_count=0, manual_verification_requested=False, language='en', progress={'eleven_flash_v2_5': 1.0, 'eleven_v2_flash': 1.0, 'eleven_flash_v2': 1.0, 'eleven_v2_5_flash': 1.0}, message={'eleven_multilingual_v2': '', 'eleven_turbo_v2_5': '', 'eleven_flash_v2_5': 'Done!', 'eleven_v2_flash': 'Done!', 'eleven_v2_5_flash': 'Done!', 'eleven_turbo_v2': '', 'eleven_flash_v2': 'Done!'}, dataset_duration_seconds=None, verification_attempts=None, slice_ids=None, manual_verification=None, max_verification_attempts=5, next_max_verification_attempts_reset_unix_ms=1700000000000, finetuning_state=None) labels={'accent': 'american', 'description': 'well-rounded', 'age': 'middle_aged', 'gender': 'male', 'use_case': 'news'} description=None preview_url='https://storage.googleapis.com/eleven-public-prod/premade/voices/29vD33N1CtxCmqQRPOHJ/b99fc51d-12d3-4312-b480-a8a45a7d51ef.mp3' available_for_tiers=[] settings=None sharing=None high_quality_base_model_ids=['eleven_v2_flash', 'eleven_flash_v2', 'eleven_turbo_v2_5', 'eleven_multilingual_v2', 'eleven_v2_5_flash', 'eleven_flash_v2_5', 'eleven_turbo_v2'] verified_languages=[] safety_control=None voice_verification=VoiceVerificationResponse(requires_verification=False, is_verified=False, verification_failures=[], verification_attempts_count=0, language=None, verification_attempts=None) permission_on_resource=None is_owner=False is_legacy=True is_mixed=False created_at_unix=None\n",
      "voice_id='2EiwWnXFnvU5JabPnv8n' name='Clyde' samples=None category='premade' fine_tuning=FineTuningResponse(is_allowed_to_fine_tune=True, state={'eleven_flash_v2_5': 'fine_tuned', 'eleven_turbo_v2': 'fine_tuned', 'eleven_flash_v2': 'fine_tuned', 'eleven_v2_flash': 'fine_tuned', 'eleven_v2_5_flash': 'fine_tuned'}, verification_failures=[], verification_attempts_count=0, manual_verification_requested=False, language='en', progress={'eleven_flash_v2_5': 1.0, 'eleven_v2_flash': 1.0, 'eleven_flash_v2': 1.0, 'eleven_v2_5_flash': 1.0}, message={'eleven_multilingual_v2': '', 'eleven_turbo_v2_5': '', 'eleven_flash_v2_5': 'Done!', 'eleven_v2_flash': 'Done!', 'eleven_v2_5_flash': 'Done!', 'eleven_turbo_v2': '', 'eleven_flash_v2': 'Done!'}, dataset_duration_seconds=None, verification_attempts=None, slice_ids=None, manual_verification=None, max_verification_attempts=5, next_max_verification_attempts_reset_unix_ms=1700000000000, finetuning_state=None) labels={'accent': 'american', 'descriptive': 'intense', 'age': 'middle_aged', 'gender': 'male', 'language': 'en', 'use_case': 'characters_animation'} description='Great for character use-cases' preview_url='https://storage.googleapis.com/eleven-public-prod/premade/voices/2EiwWnXFnvU5JabPnv8n/65d80f52-703f-4cae-a91d-75d4e200ed02.mp3' available_for_tiers=[] settings=None sharing=None high_quality_base_model_ids=['eleven_v2_flash', 'eleven_flash_v2', 'eleven_turbo_v2_5', 'eleven_multilingual_v2', 'eleven_multilingual_v1', 'eleven_v2_5_flash', 'eleven_flash_v2_5', 'eleven_turbo_v2'] verified_languages=[VerifiedVoiceLanguageResponseModel(language='en', model_id='eleven_v2_flash', accent='american', locale='en-US', preview_url='https://storage.googleapis.com/eleven-public-prod/premade/voices/2EiwWnXFnvU5JabPnv8n/65d80f52-703f-4cae-a91d-75d4e200ed02.mp3'), VerifiedVoiceLanguageResponseModel(language='en', model_id='eleven_flash_v2', accent='american', locale='en-US', preview_url='https://storage.googleapis.com/eleven-public-prod/premade/voices/2EiwWnXFnvU5JabPnv8n/65d80f52-703f-4cae-a91d-75d4e200ed02.mp3'), VerifiedVoiceLanguageResponseModel(language='en', model_id='eleven_turbo_v2_5', accent='american', locale='en-US', preview_url='https://storage.googleapis.com/eleven-public-prod/premade/voices/2EiwWnXFnvU5JabPnv8n/65d80f52-703f-4cae-a91d-75d4e200ed02.mp3'), VerifiedVoiceLanguageResponseModel(language='en', model_id='eleven_multilingual_v2', accent='american', locale='en-US', preview_url='https://storage.googleapis.com/eleven-public-prod/premade/voices/2EiwWnXFnvU5JabPnv8n/65d80f52-703f-4cae-a91d-75d4e200ed02.mp3'), VerifiedVoiceLanguageResponseModel(language='en', model_id='promade_v1', accent='american', locale='en-US', preview_url='https://storage.googleapis.com/eleven-public-prod/premade/voices/2EiwWnXFnvU5JabPnv8n/65d80f52-703f-4cae-a91d-75d4e200ed02.mp3'), VerifiedVoiceLanguageResponseModel(language='en', model_id='eleven_v2_5_flash', accent='american', locale='en-US', preview_url='https://storage.googleapis.com/eleven-public-prod/premade/voices/2EiwWnXFnvU5JabPnv8n/65d80f52-703f-4cae-a91d-75d4e200ed02.mp3'), VerifiedVoiceLanguageResponseModel(language='en', model_id='eleven_flash_v2_5', accent='american', locale='en-US', preview_url='https://storage.googleapis.com/eleven-public-prod/premade/voices/2EiwWnXFnvU5JabPnv8n/65d80f52-703f-4cae-a91d-75d4e200ed02.mp3'), VerifiedVoiceLanguageResponseModel(language='en', model_id='eleven_turbo_v2', accent='american', locale='en-US', preview_url='https://storage.googleapis.com/eleven-public-prod/premade/voices/2EiwWnXFnvU5JabPnv8n/65d80f52-703f-4cae-a91d-75d4e200ed02.mp3')] safety_control=None voice_verification=VoiceVerificationResponse(requires_verification=False, is_verified=False, verification_failures=[], verification_attempts_count=0, language=None, verification_attempts=None) permission_on_resource=None is_owner=False is_legacy=False is_mixed=False created_at_unix=None\n",
      "voice_id='5Q0t7uMcjvnagumLfvZi' name='Paul' samples=None category='premade' fine_tuning=FineTuningResponse(is_allowed_to_fine_tune=True, state={'eleven_multilingual_v2': 'fine_tuned', 'eleven_turbo_v2_5': 'fine_tuned', 'eleven_flash_v2_5': 'fine_tuned', 'eleven_v2_flash': 'fine_tuned', 'eleven_v2_5_flash': 'fine_tuned', 'eleven_turbo_v2': 'fine_tuned', 'eleven_flash_v2': 'fine_tuned'}, verification_failures=[], verification_attempts_count=0, manual_verification_requested=False, language='en', progress={'eleven_flash_v2_5': 1.0, 'eleven_v2_flash': 1.0, 'eleven_flash_v2': 1.0, 'eleven_v2_5_flash': 1.0}, message={'eleven_multilingual_v2': '', 'eleven_turbo_v2_5': '', 'eleven_flash_v2_5': 'Done!', 'eleven_v2_flash': 'Done!', 'eleven_v2_5_flash': 'Done!', 'eleven_turbo_v2': '', 'eleven_flash_v2': 'Done!'}, dataset_duration_seconds=None, verification_attempts=None, slice_ids=None, manual_verification=None, max_verification_attempts=5, next_max_verification_attempts_reset_unix_ms=1700000000000, finetuning_state=None) labels={'accent': 'american', 'description': 'authoritative', 'age': 'middle_aged', 'gender': 'male', 'use_case': 'news'} description=None preview_url='https://storage.googleapis.com/eleven-public-prod/premade/voices/5Q0t7uMcjvnagumLfvZi/a4aaa30e-54c4-44a4-8e46-b9b00505d963.mp3' available_for_tiers=[] settings=None sharing=None high_quality_base_model_ids=['eleven_v2_flash', 'eleven_flash_v2', 'eleven_turbo_v2_5', 'eleven_multilingual_v2', 'eleven_v2_5_flash', 'eleven_flash_v2_5', 'eleven_turbo_v2'] verified_languages=[] safety_control=None voice_verification=VoiceVerificationResponse(requires_verification=False, is_verified=False, verification_failures=[], verification_attempts_count=0, language=None, verification_attempts=None) permission_on_resource=None is_owner=False is_legacy=True is_mixed=False created_at_unix=None\n",
      "voice_id='9BWtsMINqrJLrRacOk9x' name='Aria' samples=None category='premade' fine_tuning=FineTuningResponse(is_allowed_to_fine_tune=True, state={'eleven_multilingual_v2': 'fine_tuned', 'eleven_turbo_v2_5': 'fine_tuned', 'eleven_flash_v2_5': 'fine_tuned', 'eleven_v2_flash': 'fine_tuned', 'eleven_v2_5_flash': 'fine_tuned', 'eleven_turbo_v2': 'fine_tuned', 'eleven_flash_v2': 'fine_tuned'}, verification_failures=[], verification_attempts_count=0, manual_verification_requested=False, language='en', progress={'eleven_flash_v2_5': 1.0, 'eleven_v2_flash': 1.0, 'eleven_flash_v2': 1.0, 'eleven_v2_5_flash': 1.0}, message={'eleven_flash_v2_5': 'Done!', 'eleven_v2_flash': 'Done!', 'eleven_flash_v2': 'Done!', 'eleven_v2_5_flash': 'Done!'}, dataset_duration_seconds=None, verification_attempts=None, slice_ids=None, manual_verification=None, max_verification_attempts=5, next_max_verification_attempts_reset_unix_ms=1700000000000, finetuning_state=None) labels={'accent': 'american', 'descriptive': 'husky', 'age': 'middle_aged', 'gender': 'female', 'language': 'en', 'use_case': 'informative_educational'} description='A middle-aged female with an African-American accent. Calm with a hint of rasp.' preview_url='https://storage.googleapis.com/eleven-public-prod/premade/voices/9BWtsMINqrJLrRacOk9x/405766b8-1f4e-4d3c-aba1-6f25333823ec.mp3' available_for_tiers=[] settings=None sharing=None high_quality_base_model_ids=['eleven_v2_flash', 'eleven_flash_v2', 'eleven_turbo_v2_5', 'eleven_multilingual_v2', 'eleven_v2_5_flash', 'eleven_flash_v2_5', 'eleven_turbo_v2'] verified_languages=[VerifiedVoiceLanguageResponseModel(language='en', model_id='eleven_v2_flash', accent='american', locale='en-US', preview_url='https://storage.googleapis.com/eleven-public-prod/premade/voices/9BWtsMINqrJLrRacOk9x/405766b8-1f4e-4d3c-aba1-6f25333823ec.mp3'), VerifiedVoiceLanguageResponseModel(language='en', model_id='eleven_flash_v2', accent='american', locale='en-US', preview_url='https://storage.googleapis.com/eleven-public-prod/premade/voices/9BWtsMINqrJLrRacOk9x/405766b8-1f4e-4d3c-aba1-6f25333823ec.mp3'), VerifiedVoiceLanguageResponseModel(language='en', model_id='eleven_turbo_v2_5', accent='american', locale='en-US', preview_url='https://storage.googleapis.com/eleven-public-prod/premade/voices/9BWtsMINqrJLrRacOk9x/405766b8-1f4e-4d3c-aba1-6f25333823ec.mp3'), VerifiedVoiceLanguageResponseModel(language='en', model_id='eleven_multilingual_v2', accent='american', locale='en-US', preview_url='https://storage.googleapis.com/eleven-public-prod/premade/voices/9BWtsMINqrJLrRacOk9x/405766b8-1f4e-4d3c-aba1-6f25333823ec.mp3'), VerifiedVoiceLanguageResponseModel(language='en', model_id='eleven_v2_5_flash', accent='american', locale='en-US', preview_url='https://storage.googleapis.com/eleven-public-prod/premade/voices/9BWtsMINqrJLrRacOk9x/405766b8-1f4e-4d3c-aba1-6f25333823ec.mp3'), VerifiedVoiceLanguageResponseModel(language='en', model_id='eleven_flash_v2_5', accent='american', locale='en-US', preview_url='https://storage.googleapis.com/eleven-public-prod/premade/voices/9BWtsMINqrJLrRacOk9x/405766b8-1f4e-4d3c-aba1-6f25333823ec.mp3'), VerifiedVoiceLanguageResponseModel(language='en', model_id='eleven_turbo_v2', accent='american', locale='en-US', preview_url='https://storage.googleapis.com/eleven-public-prod/premade/voices/9BWtsMINqrJLrRacOk9x/405766b8-1f4e-4d3c-aba1-6f25333823ec.mp3'), VerifiedVoiceLanguageResponseModel(language='fr', model_id='eleven_multilingual_v2', accent='standard', locale='fr-FR', preview_url='https://storage.googleapis.com/eleven-public-prod/premade/voices/9BWtsMINqrJLrRacOk9x/ae97c224-d4d0-4e03-a9ab-36f031f48e94.mp3'), VerifiedVoiceLanguageResponseModel(language='zh', model_id='eleven_multilingual_v2', accent='standard', locale='cmn-CN', preview_url='https://storage.googleapis.com/eleven-public-prod/premade/voices/9BWtsMINqrJLrRacOk9x/b6a58993-1cf7-4ea8-b3b1-a60b3641d5bf.mp3'), VerifiedVoiceLanguageResponseModel(language='tr', model_id='eleven_multilingual_v2', accent='standard', locale='tr-TR', preview_url='https://storage.googleapis.com/eleven-public-prod/premade/voices/9BWtsMINqrJLrRacOk9x/9342915e-dd15-4a11-af37-96670decd65a.mp3')] safety_control=None voice_verification=VoiceVerificationResponse(requires_verification=False, is_verified=False, verification_failures=[], verification_attempts_count=0, language=None, verification_attempts=None) permission_on_resource=None is_owner=False is_legacy=True is_mixed=False created_at_unix=None\n",
      "voice_id='AZnzlk1XvdvUeBnXmlld' name='Domi' samples=None category='premade' fine_tuning=FineTuningResponse(is_allowed_to_fine_tune=False, state={}, verification_failures=[], verification_attempts_count=0, manual_verification_requested=False, language=None, progress={}, message={}, dataset_duration_seconds=None, verification_attempts=None, slice_ids=None, manual_verification=None, max_verification_attempts=None, next_max_verification_attempts_reset_unix_ms=None, finetuning_state=None) labels={'accent': 'american', 'description': 'strong', 'age': 'young', 'gender': 'female', 'use_case': 'narration'} description=None preview_url='https://storage.googleapis.com/eleven-public-prod/premade/voices/AZnzlk1XvdvUeBnXmlld/b3c36b01-f80d-4b16-a698-f83682dee84c.mp3' available_for_tiers=[] settings=None sharing=None high_quality_base_model_ids=[] verified_languages=[] safety_control=None voice_verification=VoiceVerificationResponse(requires_verification=False, is_verified=False, verification_failures=[], verification_attempts_count=0, language=None, verification_attempts=None) permission_on_resource=None is_owner=False is_legacy=True is_mixed=False created_at_unix=None\n"
     ]
    }
   ],
   "source": [
    "# 음성 목록 가져오기\n",
    "response = client.voices.search()\n",
    "\n",
    "for voice in response.voices:\n",
    "    print(voice)"
   ]
  },
  {
   "cell_type": "code",
   "execution_count": 16,
   "id": "d427d075",
   "metadata": {},
   "outputs": [],
   "source": [
    "emotion_tts_settings = {\n",
    "    \"기쁨\": {\n",
    "        \"stability\": 0.3,\n",
    "        \"similarity_boost\": 0.8,\n",
    "        \"use_speaker_boost\": True,\n",
    "        \"style\": 0.9,      # 최대 1.0\n",
    "        \"speed\": 1.2\n",
    "    },\n",
    "    \"슬픔\": {\n",
    "        \"stability\": 0.85,\n",
    "        \"similarity_boost\": 0.7,\n",
    "        \"use_speaker_boost\": False,\n",
    "        \"style\": 0.5,\n",
    "        \"speed\": 0.85\n",
    "    },\n",
    "    \"분노\": {\n",
    "        \"stability\": 0.2,\n",
    "        \"similarity_boost\": 0.8,\n",
    "        \"use_speaker_boost\": True,\n",
    "        \"style\": 1.0,      # 최대값으로 조정\n",
    "        \"speed\": 1.1\n",
    "    },\n",
    "    \"놀람\": {\n",
    "        \"stability\": 0.4,\n",
    "        \"similarity_boost\": 0.75,\n",
    "        \"use_speaker_boost\": True,\n",
    "        \"style\": 1.0,      # 최대값으로 조정\n",
    "        \"speed\": 1.2\n",
    "    },\n",
    "    \"불안\": {\n",
    "        \"stability\": 0.6,\n",
    "        \"similarity_boost\": 0.7,\n",
    "        \"use_speaker_boost\": False,\n",
    "        \"style\": 0.8,\n",
    "        \"speed\": 0.95\n",
    "    },\n",
    "    \"평온\": {\n",
    "        \"stability\": 0.95,\n",
    "        \"similarity_boost\": 0.6,\n",
    "        \"use_speaker_boost\": False,\n",
    "        \"style\": 0.2,\n",
    "        \"speed\": 0.9\n",
    "    }\n",
    "}"
   ]
  },
  {
   "cell_type": "code",
   "execution_count": 20,
   "id": "32d9e5a0",
   "metadata": {},
   "outputs": [
    {
     "name": "stdout",
     "output_type": "stream",
     "text": [
      "🔈 Speech 재생\n",
      "✅ mp3 저장 완료!\n"
     ]
    }
   ],
   "source": [
    "from elevenlabs import play\n",
    "\n",
    "# 음성 합성\n",
    "audio = client.text_to_speech.convert(\n",
    "    text=\"나 고윤정이야\",\n",
    "    voice_id=\"S8IIf77q99OgYuPS5P9n\",   # 음성 목록에 출력된 id를 가져온다.\n",
    "    model_id=\"eleven_multilingual_v2\",\n",
    "    output_format=\"mp3_44100_128\",\n",
    "    voice_settings=emotion_tts_settings[\"기쁨\"]\n",
    ")\n",
    "\n",
    "# 음성 재생\n",
    "print(\"🔈 Speech 재생\")\n",
    "play(audio)\n",
    "\n",
    "# 파일 저장\n",
    "audio_bytes = b\"\".join(audio)\n",
    "\n",
    "audio_path = \"./resources/speech_elevenlabs.mp3\" \n",
    "with open(audio_path, \"wb\") as f:\n",
    "    f.write(audio_bytes)\n",
    "    print(\"✅ mp3 저장 완료!\")"
   ]
  }
 ],
 "metadata": {
  "kernelspec": {
   "display_name": "block_pre_train",
   "language": "python",
   "name": "python3"
  },
  "language_info": {
   "codemirror_mode": {
    "name": "ipython",
    "version": 3
   },
   "file_extension": ".py",
   "mimetype": "text/x-python",
   "name": "python",
   "nbconvert_exporter": "python",
   "pygments_lexer": "ipython3",
   "version": "3.11.11"
  }
 },
 "nbformat": 4,
 "nbformat_minor": 5
}
