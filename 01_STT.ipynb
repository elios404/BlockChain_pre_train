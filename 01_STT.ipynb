{
 "cells": [
  {
   "cell_type": "markdown",
   "id": "461ca831",
   "metadata": {},
   "source": [
    "# STT (Speech to Text)"
   ]
  },
  {
   "cell_type": "code",
   "execution_count": null,
   "id": "693d11e4",
   "metadata": {},
   "outputs": [
    {
     "name": "stdout",
     "output_type": "stream",
     "text": [
      "hello\n"
     ]
    }
   ],
   "source": [
    "# python 확인\n",
    "print(\"hello\")"
   ]
  },
  {
   "cell_type": "markdown",
   "id": "5b66cc2e",
   "metadata": {},
   "source": [
    "## 0. 환경 변수 불러오기"
   ]
  },
  {
   "cell_type": "code",
   "execution_count": 2,
   "id": "18e840e3",
   "metadata": {},
   "outputs": [
    {
     "data": {
      "text/plain": [
       "True"
      ]
     },
     "execution_count": 2,
     "metadata": {},
     "output_type": "execute_result"
    }
   ],
   "source": [
    "# 환경변수 불러오기\n",
    "from dotenv import load_dotenv\n",
    "\n",
    "load_dotenv()"
   ]
  },
  {
   "cell_type": "markdown",
   "id": "fd45839d",
   "metadata": {},
   "source": [
    "## 1. 오디오 파일을 텍스트로 바꾸기"
   ]
  },
  {
   "cell_type": "code",
   "execution_count": null,
   "id": "acbdc610",
   "metadata": {},
   "outputs": [
    {
     "name": "stdout",
     "output_type": "stream",
     "text": [
      "다들 도착하셨나요? 그럼 회의 시작할게요. 먼저 디자인팀 상황부터 공유해 주시겠어요? 네, 디자인팀은 이번 주까지 시안 1차 수정본 제출 목표로 작업 중입니다. 주요 피드백 반영했고, 마감은 목요일까지 가능합니다. 좋아요. 개발팀은요? 기능 개발은 80%에 완료됐습니다. 어... 로그인 기능과 게시판 기능은 이번 주에 마무리할 예정이고, 다음 주 월요일부터 내부 테스트를 시작하려고 합니다. 일정대로 잘 진행되고 있네요. 마케팅 쪽은 어떤가요? 마케팅팀은 5월 초에 있을 프로모션을 준비 중입니다. 다만 이번 주 안으로 기획 초안을 작성하는 건 조금 타이트할 것 같은데, 가능하다면 기획 초안 제출 기한을 다음 주 수요일까지로 조정해 주실 수 있을까요? 음, 알겠어요. 전체 일정에는 영향이 크지 않으니 다음 주 수요일까지로 조정합시다. 그럼 지금 남은 과제는 기능 테스트 계획 수립, 디자인 수정 최종본 검토, 마케팅 기획 초안 점검 이 세 가지로 정리할 수 있겠네요? 네, 테스트 계획 문서는 이번 주 금요일까지 작성해서 공유했습니다. 디자인 수정본은 목요일에 완성되는 대로 바로 공유 드리겠습니다. 좋아요. 마지막으로 다음 회의 일정을 잡을게요. 3월 29일 월요일 오전 10시에 모두 괜찮으세요? 죄송한데, 그날 오전에 내부 회의가 있어서 11시 이후로 미뤄주실 수 있을까요? 저는 괜찮습니다. 저도 11시 이후면 문제없습니다. 알겠습니다. 그럼 다음 회의는 4월 29일 월요일 오전 11시로 확정하겠습니다. 오늘 회의는 여기까지 하겠습니다. 모두 수고하셨습니다.\n"
     ]
    }
   ],
   "source": [
    "from openai import OpenAI\n",
    "\n",
    "# 오디오파일 불러오기\n",
    "audio_file= open(\"./resources/회의.mp3\", \"rb\") #바이너리 파일(음성) 읽어오기\n",
    "\n",
    "# OpenAI 클라이언트 생성\n",
    "# OpenAI 는 OPENAI_API_KEY 를 자동으로 찾아서 등록\n",
    "client = OpenAI()\n",
    "\n",
    "# 오디오 파일을 텍스트로 변환\n",
    "transcription = client.audio.transcriptions.create(\n",
    "    model=\"whisper-1\", \n",
    "    file=audio_file\n",
    ")\n",
    "\n",
    "print(transcription.text)"
   ]
  },
  {
   "cell_type": "markdown",
   "id": "d898fe8e",
   "metadata": {},
   "source": [
    "## 2. 실시간 음성 -> 텍스트"
   ]
  },
  {
   "cell_type": "code",
   "execution_count": 5,
   "id": "66390d5d",
   "metadata": {},
   "outputs": [
    {
     "name": "stdout",
     "output_type": "stream",
     "text": [
      "🎤 말해주세요\n",
      "🧠 인식 중...\n",
      "📝 인식된 텍스트: 오늘 점심 뭐 먹을까?\n",
      "💾 저장 완료(input.wav)\n"
     ]
    }
   ],
   "source": [
    "import speech_recognition as sr\n",
    "\n",
    "# 음성인식 도구 생성\n",
    "r = sr.Recognizer()\n",
    "\n",
    "with sr.Microphone() as source:\n",
    "    print(\"🎤 말해주세요\")\n",
    "    # STEP 1: 마이크로부터 입력\n",
    "    r.adjust_for_ambient_noise(source)  # 주변 소음 조정\n",
    "    audio = r.listen(source)\n",
    "\n",
    "    print(\"🧠 인식 중...\")\n",
    "\n",
    "    # STEP 2: Whisper API로 텍스트 변환\n",
    "    text = r.recognize_openai(audio)\n",
    "    print(\"📝 인식된 텍스트:\", text)\n",
    "\n",
    "    # STEP 3: 음성 저장\n",
    "    audio_file = audio.get_wav_data()\n",
    "    with open(\"./resources/input.wav\", \"wb\") as f:\n",
    "        f.write(audio_file)\n",
    "        print(\"💾 저장 완료(input.wav)\")"
   ]
  },
  {
   "cell_type": "code",
   "execution_count": 8,
   "id": "cb5fd262",
   "metadata": {},
   "outputs": [],
   "source": [
    "from pydub import AudioSegment\n",
    "from pydub.playback import play\n",
    "\n",
    "# mp3 파일일 경우\n",
    "# sound = AudioSegment.from_mp3(\"./resources/input.mp3\")\n",
    "# wav 파일일 경우 \n",
    "sound = AudioSegment.from_wav(\"./resources/input.wav\")\n",
    "play(sound)"
   ]
  }
 ],
 "metadata": {
  "kernelspec": {
   "display_name": "block_pre_train",
   "language": "python",
   "name": "python3"
  },
  "language_info": {
   "codemirror_mode": {
    "name": "ipython",
    "version": 3
   },
   "file_extension": ".py",
   "mimetype": "text/x-python",
   "name": "python",
   "nbconvert_exporter": "python",
   "pygments_lexer": "ipython3",
   "version": "3.11.11"
  }
 },
 "nbformat": 4,
 "nbformat_minor": 5
}
