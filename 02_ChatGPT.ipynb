{
 "cells": [
  {
   "cell_type": "markdown",
   "id": "39ad2e8e",
   "metadata": {},
   "source": [
    "# ChatGPT (gpt를 통해서 답변 얻기)"
   ]
  },
  {
   "cell_type": "markdown",
   "id": "f53b12fe",
   "metadata": {},
   "source": [
    "## 0. 환경 변수 불러오기"
   ]
  },
  {
   "cell_type": "code",
   "execution_count": 1,
   "id": "922fdf09",
   "metadata": {},
   "outputs": [
    {
     "data": {
      "text/plain": [
       "True"
      ]
     },
     "execution_count": 1,
     "metadata": {},
     "output_type": "execute_result"
    }
   ],
   "source": [
    "# 환경변수 불러오기\n",
    "from dotenv import load_dotenv\n",
    "\n",
    "load_dotenv()"
   ]
  },
  {
   "cell_type": "markdown",
   "id": "561db51b",
   "metadata": {},
   "source": [
    "## 1. chat gpt 프룸프트 작성 + input 넣기"
   ]
  },
  {
   "cell_type": "markdown",
   "id": "80403d46",
   "metadata": {},
   "source": [
    "### 단계 별로 작성하기"
   ]
  },
  {
   "cell_type": "code",
   "execution_count": 4,
   "id": "cab8cbf2",
   "metadata": {},
   "outputs": [
    {
     "name": "stdout",
     "output_type": "stream",
     "text": [
      "1단계. 감정 분류: 기쁨\n",
      "\n",
      "2단계. 프롬프트: 기쁨에 가득 찬 목소리로 상대방의 행복을 격려하고, 즐거운 분위기를 유지하며 친근하게 추천하는 말투로 답하세요.\n",
      "\n",
      "3단계. 응답: 와, 정말 기쁘다! 점심 먹는 것도 즐거울 것 같아. 혹시 이참에 맛있는 분식을 한 번 고려해 보는 건 어때? 정말 행복한 하루 보내길 바랄게!\n"
     ]
    }
   ],
   "source": [
    "from openai import OpenAI\n",
    "\n",
    "# OpenAI 클라이언트 생성\n",
    "client = OpenAI()\n",
    "\n",
    "# 프롬프트 및 질문 작성\n",
    "system_prompt = f\"\"\"\n",
    "당신은 감정 기반 AI 응답을 생성하는 어시스턴트입니다.\n",
    "상대방의 감정을 파악하고 공감한 후, 그에 따른 응답을 해주는 것이 목표입니다. \n",
    "\n",
    "[수행 과정]\n",
    "주어진 문장을 보고 다음 단계를 순서대로 수행하세요:\n",
    "\n",
    "1단계. 문장의 감정을 분류합니다. 다음 정의 중 하나로 선택하세요.\n",
    "(감정의 정의)\n",
    "기쁨:\t즐겁고 행복한 상태. 긍정적인 사건이나 기대감에서 비롯된 감정\n",
    "슬픔:\t상실, 외로움, 실망 등으로 인해 마음이 무겁고 우울한 상태\n",
    "분노:\t불쾌하거나 부당하다고 느껴져서 생기는 강한 부정적 감정\n",
    "놀람:\t예상하지 못한 상황이나 정보에 순간적으로 크게 반응하는 감정\n",
    "불안:\t걱정되거나 두려운 일이 생길 것 같은 불편하고 긴장된 상태\n",
    "평온:\t안정적이고 차분한 상태. 감정의 기복이 적고 편안한 상태\n",
    "\n",
    "2단계. 해당 감정에 적절한 AI의 반응 말투에 대한 프롬프트를 생성하세요.\n",
    "\n",
    "3단계. AI의 감정에 맞춰 한 마디의 응답을 생성하세요.\n",
    "\"\"\"\n",
    "user_input = \"나 오늘 너무 행복해! 점심 먹어야 하는데 점심 추천해줘!\"\n",
    "\n",
    "# 요청 및 응답\n",
    "response = client.chat.completions.create(\n",
    "    model=\"gpt-4.1-nano\",\n",
    "    messages=[\n",
    "        {\"role\": \"system\", \"content\": system_prompt}, #시스템 요구사항, 역할 설정\n",
    "        {\"role\": \"user\", \"content\": user_input}\n",
    "    ]\n",
    ")\n",
    "\n",
    "print(response.choices[0].message.content.strip())"
   ]
  },
  {
   "cell_type": "markdown",
   "id": "e8c5f4b0",
   "metadata": {},
   "source": [
    "### 구조화된 작성 + json 출력 형식"
   ]
  },
  {
   "cell_type": "code",
   "execution_count": 7,
   "id": "ce8c337f",
   "metadata": {},
   "outputs": [
    {
     "name": "stdout",
     "output_type": "stream",
     "text": [
      "{\n",
      "  \"user_emotion\": \"분노\",\n",
      "  \"ai_emotion\": \"따뜻하게 공감\",\n",
      "  \"response\": \"그럴 수 있죠, 정말 힘든 하루였겠어요. 충분히 힘내셨다고요.\"\n"
     ]
    }
   ],
   "source": [
    "from openai import OpenAI\n",
    "\n",
    "# OpenAI 클라이언트 생성\n",
    "client = OpenAI()\n",
    "\n",
    "# 프롬프트 및 질문 작성\n",
    "system_prompt = f\"\"\"\n",
    "당신은 감정 기반 AI 응답을 생성하는 어시스턴트입니다.\n",
    "응답할 때에는 상대방의 감정을 공감해주세요\n",
    "\n",
    "[수행 과정]\n",
    "주어진 문장을 보고 다음 단계를 순서대로 수행하세요:\n",
    "\n",
    "1단계. 문장의 감정을 분류합니다.  \n",
    "가능한 감정 목록: 기쁨, 슬픔, 분노, 놀람, 불안, 평온 중 하나로 선택하세요.\n",
    "\n",
    "2단계. 해당 감정에 적절한 AI의 반응 말투에 대한 프롬프트를 생성하세요.\n",
    "\n",
    "3단계. AI의 감정에 맞춰 한 마디의 응답을 생성하세요.\n",
    "\n",
    "[출력 형식]\n",
    "{{\n",
    "  \"user_emotion\": \"슬픔\",\n",
    "  \"ai_emotion\": \"따뜻하게 공감\",\n",
    "  \"response\": \"정말 힘든 하루였겠네요. 많이 애쓰셨어요.\"\n",
    "}}\n",
    "\"\"\"\n",
    "user_input = \"나 오늘 너무 짜증나! 오늘 고객이 너무 별로였어!\"\n",
    "\n",
    "# 요청 및 응답\n",
    "response = client.chat.completions.create(\n",
    "    model=\"gpt-4.1-nano\",\n",
    "    messages=[\n",
    "        {\"role\": \"system\", \"content\": system_prompt}, #시스템 요구사항, 역할 설정\n",
    "        {\"role\": \"user\", \"content\": user_input}\n",
    "    ]\n",
    ")\n",
    "\n",
    "print(response.choices[0].message.content.strip())\n",
    "# 출력 형식이 json 형태로 된 것을 확인할 수 있음"
   ]
  },
  {
   "cell_type": "code",
   "execution_count": null,
   "id": "3885d13e",
   "metadata": {},
   "outputs": [],
   "source": []
  }
 ],
 "metadata": {
  "kernelspec": {
   "display_name": "block_pre_train",
   "language": "python",
   "name": "python3"
  },
  "language_info": {
   "codemirror_mode": {
    "name": "ipython",
    "version": 3
   },
   "file_extension": ".py",
   "mimetype": "text/x-python",
   "name": "python",
   "nbconvert_exporter": "python",
   "pygments_lexer": "ipython3",
   "version": "3.11.11"
  }
 },
 "nbformat": 4,
 "nbformat_minor": 5
}
